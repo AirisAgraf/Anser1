{
  "nbformat": 4,
  "nbformat_minor": 0,
  "metadata": {
    "colab": {
      "provenance": []
    },
    "kernelspec": {
      "name": "python3",
      "display_name": "Python 3"
    },
    "language_info": {
      "name": "python"
    }
  },
  "cells": [
    {
      "cell_type": "code",
      "execution_count": 2,
      "metadata": {
        "colab": {
          "base_uri": "https://localhost:8080/",
          "height": 332
        },
        "id": "y1ONyRWVBp_v",
        "outputId": "6c3cc5c0-c2b6-418f-955f-54da78c4dee2"
      },
      "outputs": [
        {
          "output_type": "error",
          "ename": "IndexError",
          "evalue": "index 67 is out of bounds for axis 1 with size 26",
          "traceback": [
            "\u001b[0;31m---------------------------------------------------------------------------\u001b[0m",
            "\u001b[0;31mIndexError\u001b[0m                                Traceback (most recent call last)",
            "\u001b[0;32m<ipython-input-2-692dad45cf71>\u001b[0m in \u001b[0;36m<cell line: 0>\u001b[0;34m()\u001b[0m\n\u001b[1;32m     50\u001b[0m \u001b[0;34m\u001b[0m\u001b[0m\n\u001b[1;32m     51\u001b[0m \u001b[0;31m# Load data\u001b[0m\u001b[0;34m\u001b[0m\u001b[0;34m\u001b[0m\u001b[0m\n\u001b[0;32m---> 52\u001b[0;31m \u001b[0mtrain_data\u001b[0m\u001b[0;34m,\u001b[0m \u001b[0mtrain_labelp\u001b[0m\u001b[0;34m,\u001b[0m \u001b[0mval_data\u001b[0m\u001b[0;34m,\u001b[0m \u001b[0mval_labelp\u001b[0m\u001b[0;34m,\u001b[0m \u001b[0mtest_data\u001b[0m\u001b[0;34m,\u001b[0m \u001b[0mtest_labelp\u001b[0m \u001b[0;34m=\u001b[0m \u001b[0mloadDataset\u001b[0m\u001b[0;34m(\u001b[0m\u001b[0;34m)\u001b[0m\u001b[0;34m\u001b[0m\u001b[0;34m\u001b[0m\u001b[0m\n\u001b[0m\u001b[1;32m     53\u001b[0m \u001b[0mtrain_label\u001b[0m \u001b[0;34m=\u001b[0m \u001b[0mto_categorical\u001b[0m\u001b[0;34m(\u001b[0m\u001b[0mtrain_labelp\u001b[0m\u001b[0;34m,\u001b[0m \u001b[0;36m12\u001b[0m\u001b[0;34m)\u001b[0m\u001b[0;34m\u001b[0m\u001b[0;34m\u001b[0m\u001b[0m\n\u001b[1;32m     54\u001b[0m \u001b[0mval_label\u001b[0m \u001b[0;34m=\u001b[0m \u001b[0mto_categorical\u001b[0m\u001b[0;34m(\u001b[0m\u001b[0mval_labelp\u001b[0m\u001b[0;34m,\u001b[0m \u001b[0;36m12\u001b[0m\u001b[0;34m)\u001b[0m\u001b[0;34m\u001b[0m\u001b[0;34m\u001b[0m\u001b[0m\n",
            "\u001b[0;32m<ipython-input-2-692dad45cf71>\u001b[0m in \u001b[0;36mloadDataset\u001b[0;34m()\u001b[0m\n\u001b[1;32m     28\u001b[0m     \u001b[0mtrainfile\u001b[0m \u001b[0;34m=\u001b[0m \u001b[0mpd\u001b[0m\u001b[0;34m.\u001b[0m\u001b[0mread_csv\u001b[0m\u001b[0;34m(\u001b[0m\u001b[0mfilename\u001b[0m\u001b[0;34m)\u001b[0m\u001b[0;34m\u001b[0m\u001b[0;34m\u001b[0m\u001b[0m\n\u001b[1;32m     29\u001b[0m     \u001b[0mdata\u001b[0m \u001b[0;34m=\u001b[0m \u001b[0mpd\u001b[0m\u001b[0;34m.\u001b[0m\u001b[0mDataFrame\u001b[0m\u001b[0;34m(\u001b[0m\u001b[0mtrainfile\u001b[0m\u001b[0;34m)\u001b[0m\u001b[0;34m.\u001b[0m\u001b[0mto_numpy\u001b[0m\u001b[0;34m(\u001b[0m\u001b[0;34m)\u001b[0m\u001b[0;34m\u001b[0m\u001b[0;34m\u001b[0m\u001b[0m\n\u001b[0;32m---> 30\u001b[0;31m     \u001b[0mlabel\u001b[0m \u001b[0;34m=\u001b[0m \u001b[0mdata\u001b[0m\u001b[0;34m[\u001b[0m\u001b[0;34m:\u001b[0m\u001b[0;34m,\u001b[0m \u001b[0;36m67\u001b[0m\u001b[0;34m]\u001b[0m\u001b[0;34m.\u001b[0m\u001b[0mastype\u001b[0m\u001b[0;34m(\u001b[0m\u001b[0;34m'str'\u001b[0m\u001b[0;34m)\u001b[0m\u001b[0;34m\u001b[0m\u001b[0;34m\u001b[0m\u001b[0m\n\u001b[0m\u001b[1;32m     31\u001b[0m \u001b[0;34m\u001b[0m\u001b[0m\n\u001b[1;32m     32\u001b[0m     inx_sel = -1 + np.array([38, 47, 37, 48, 11, 9, 7, 52, 10, 36, 1, 34, 4, 17, 19, 57, 21,\n",
            "\u001b[0;31mIndexError\u001b[0m: index 67 is out of bounds for axis 1 with size 26"
          ]
        }
      ],
      "source": [
        "import matplotlib.pyplot as plt\n",
        "from tensorflow.keras.utils import plot_model\n",
        "import pandas as pd\n",
        "import numpy as np\n",
        "from sklearn.model_selection import train_test_split\n",
        "from sklearn.metrics import confusion_matrix\n",
        "from keras.callbacks import ModelCheckpoint, EarlyStopping\n",
        "import os\n",
        "from tensorflow.keras.utils import to_categorical\n",
        "from sklearn.utils import class_weight\n",
        "import subprocess\n",
        "\n",
        "# Function to block IP (Linux-based firewall command example)\n",
        "def block_ip(ip_address):\n",
        "    try:\n",
        "        subprocess.run([\"sudo\", \"iptables\", \"-A\", \"INPUT\", \"-s\", ip_address, \"-j\", \"DROP\"], check=True)\n",
        "        print(f\"Blocked IP: {ip_address}\")\n",
        "    except Exception as e:\n",
        "        print(f\"Error blocking IP {ip_address}: {e}\")\n",
        "\n",
        "# Function to notify admin\n",
        "def notify_admin(ip_address, attack_type):\n",
        "    print(f\"Alert: Potential {attack_type} attack detected from {ip_address}. Admin notified.\")\n",
        "\n",
        "# Load dataset (same as IDS)\n",
        "def loadDataset():\n",
        "    filename = 'https://raw.githubusercontent.com/kdemertzis/EKPA/refs/heads/main/Data/pcap_data.csv'\n",
        "    trainfile = pd.read_csv(filename)\n",
        "    data = pd.DataFrame(trainfile).to_numpy()\n",
        "    label = data[:, 67].astype('str')\n",
        "\n",
        "    inx_sel = -1 + np.array([38, 47, 37, 48, 11, 9, 7, 52, 10, 36, 1, 34, 4, 17, 19, 57, 21,\n",
        "                             18, 22, 24, 32, 50, 23, 55, 51, 5, 3, 39, 40, 43, 58, 12, 25,\n",
        "                             20, 2, 35, 67, 33, 6, 53])\n",
        "\n",
        "    data = data[:, inx_sel]\n",
        "\n",
        "    label_map = {\"WebDDoS\": 0, \"BENIGN\": 1, \"UDP-lag\": 2, \"DrDoS_NTP\": 3, \"Syn\": 4,\n",
        "                 \"DrDoS_SSDP\": 5, \"DrDoS_UDP\": 6, \"DrDoS_NetBIOS\": 7, \"DrDoS_MSSQL\": 8,\n",
        "                 \"DrDoS_SNMP\": 9, \"TFTP\": 10, \"DrDoS_DNS\": 11}\n",
        "\n",
        "    label = np.array([label_map.get(l, -1) for l in label])\n",
        "    filtered_indices = label != -1\n",
        "    data, label = data[filtered_indices], label[filtered_indices]\n",
        "\n",
        "    train_data, test_data, train_label, test_label = train_test_split(data, label, test_size=0.20, stratify=label)\n",
        "    train_data, val_data, train_label, val_label = train_test_split(train_data, train_label, test_size=0.125, stratify=train_label)\n",
        "\n",
        "    return train_data.astype('float32'), train_label.astype('int32'), val_data.astype('float32'), val_label.astype('int32'), test_data.astype('float32'), test_label.astype('int32')\n",
        "\n",
        "# Load data\n",
        "train_data, train_labelp, val_data, val_labelp, test_data, test_labelp = loadDataset()\n",
        "train_label = to_categorical(train_labelp, 12)\n",
        "val_label = to_categorical(val_labelp, 12)\n",
        "test_label = to_categorical(test_labelp, 12)\n",
        "\n",
        "# Train model (same as IDS, assumed models_ddos module exists)\n",
        "inshape = train_data.shape[1]\n",
        "model = models_ddos.model_conv1D(lr=1e-4, N=64, inshape=inshape)\n",
        "model.fit(train_data, train_label, epochs=100, batch_size=256, validation_data=(val_data, val_label))\n",
        "\n",
        "# Predict on test data\n",
        "pred = model.predict(test_data)\n",
        "pred_y = pred.argmax(axis=-1)\n",
        "cm = confusion_matrix(test_labelp, pred_y)\n",
        "\n",
        "# Implement IPS reactions\n",
        "attack_classes = {0: \"WebDDoS\", 2: \"UDP-lag\", 3: \"DrDoS_NTP\", 4: \"Syn\", 5: \"DrDoS_SSDP\"}\n",
        "malicious_ips = []\n",
        "for i, label in enumerate(test_labelp):\n",
        "    if label in attack_classes:\n",
        "        ip_address = test_data[i][0]  # Assume first column holds IP (modify if needed)\n",
        "        malicious_ips.append(ip_address)\n",
        "        block_ip(ip_address)\n",
        "        notify_admin(ip_address, attack_classes[label])\n"
      ]
    }
  ]
}